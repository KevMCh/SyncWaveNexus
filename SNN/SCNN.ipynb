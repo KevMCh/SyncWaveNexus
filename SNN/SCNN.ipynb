{
 "cells": [
  {
   "cell_type": "markdown",
   "id": "713cfbc5",
   "metadata": {},
   "source": [
    "### Importing Libraries\n",
    "Import the required libraries for data analysis."
   ]
  },
  {
   "cell_type": "code",
   "execution_count": 1,
   "id": "38eb6222",
   "metadata": {},
   "outputs": [],
   "source": [
    "import scipy.io\n",
    "import numpy as np\n",
    "import matplotlib.pyplot as plt\n",
    "\n",
    "import torch\n",
    "import torch.nn as nn\n",
    "import torch.nn.functional as F\n",
    "from torch.optim.lr_scheduler import StepLR\n",
    "from torch.utils.data import Dataset, DataLoader\n",
    "\n",
    "import snntorch as snn\n",
    "from snntorch import utils\n",
    "from snntorch import surrogate\n",
    "from snntorch import functional as SF"
   ]
  },
  {
   "cell_type": "code",
   "execution_count": 2,
   "id": "a4d8ddb6",
   "metadata": {},
   "outputs": [],
   "source": [
    "class GraphDataset(Dataset):\n",
    "    FILE_PATH = ''\n",
    "    \n",
    "    def __init__(self, user_id=None, label_list=None, num_samples=None, secs=None):\n",
    "        self.user_id = user_id\n",
    "        self.label_list = label_list\n",
    "        self.num_samples = num_samples\n",
    "        self.secs = secs\n",
    "        \n",
    "        self.data, self.labels = self.load_data(user_id, label_list, secs)\n",
    "\n",
    "    def __len__(self):\n",
    "        return len(self.data)\n",
    "\n",
    "    def __getitem__(self, idx):\n",
    "        return torch.Tensor(self.data[idx]), self.labels[idx]\n",
    "    \n",
    "    def load_data(self, user_id, label_list, secs):\n",
    "        data = list()\n",
    "        labels = list()\n",
    "        \n",
    "        for i in range(len(label_list)):\n",
    "            for j in range(1, num_samples + 1):\n",
    "                try:\n",
    "                    adjMatrix = scipy.io.loadmat(\n",
    "                        self.FILE_PATH + str(user_id) +\n",
    "                        '_label' + str(label_list[i]) +\n",
    "                        '_item' + str(j) + '.mat')\n",
    "                    \n",
    "                except Exception as e:\n",
    "                    print(f\"Load fail: {e}\")\n",
    "                    continue\n",
    "                    \n",
    "                if self.secs == 1:\n",
    "                    tmpAdjMatrix = adjMatrix['fullMatrix'][np.newaxis, :, :]\n",
    "                else:\n",
    "                    tmpAdjMatrix = list()\n",
    "                    for k in range(self.secs):\n",
    "                        tmpAdjMatrix.append(adjMatrix['fullMatrix'][:, :, k])\n",
    "                                        \n",
    "                data.append(np.array(tmpAdjMatrix))\n",
    "                labels.append(label_list[i])\n",
    "                                \n",
    "        if not data or not labels:\n",
    "            raise RuntimeError(\"No data or labels loaded.\")\n",
    "                    \n",
    "        data = torch.tensor(np.stack(data), dtype=torch.float32)\n",
    "                \n",
    "        label_dict = {label: index for index, label in enumerate(self.label_list)}\n",
    "        new_label_list = [label_dict[label] for label in labels]\n",
    "        labels = torch.tensor(new_label_list, dtype=torch.long)\n",
    "        \n",
    "        return data, labels"
   ]
  },
  {
   "cell_type": "markdown",
   "id": "eebe9f58",
   "metadata": {},
   "source": [
    "### Loading Data\n",
    "Load the full dataset."
   ]
  },
  {
   "cell_type": "code",
   "execution_count": 3,
   "id": "accdd569",
   "metadata": {},
   "outputs": [],
   "source": [
    "user_id = 1\n",
    "label_list = [769, 770, 771, 772]\n",
    "num_samples = 72\n",
    "secs = 1"
   ]
  },
  {
   "cell_type": "code",
   "execution_count": 4,
   "id": "ed256242",
   "metadata": {},
   "outputs": [],
   "source": [
    "full_dataset = GraphDataset(user_id=user_id, label_list=label_list, num_samples=num_samples, secs=secs)"
   ]
  },
  {
   "cell_type": "markdown",
   "id": "77013a3a",
   "metadata": {},
   "source": [
    "Create the train and test set."
   ]
  },
  {
   "cell_type": "code",
   "execution_count": 5,
   "id": "382be70c",
   "metadata": {},
   "outputs": [],
   "source": [
    "train_size = int(0.75 * len(full_dataset))\n",
    "test_size = len(full_dataset) - train_size\n",
    "train_dataset, test_dataset = torch.utils.data.random_split(full_dataset, [train_size, test_size])"
   ]
  },
  {
   "cell_type": "code",
   "execution_count": 6,
   "id": "3daa45cd",
   "metadata": {},
   "outputs": [],
   "source": [
    "batch_size = 6\n",
    "\n",
    "train_loader = DataLoader(train_dataset, batch_size=batch_size, shuffle=True)\n",
    "test_loader = DataLoader(test_dataset, batch_size=batch_size, shuffle=True)"
   ]
  },
  {
   "cell_type": "markdown",
   "id": "cc090f57",
   "metadata": {},
   "source": [
    "## Classification"
   ]
  },
  {
   "cell_type": "code",
   "execution_count": 7,
   "id": "472eb5aa",
   "metadata": {},
   "outputs": [],
   "source": [
    "dtype = torch.float\n",
    "device = torch.device(\"cuda\") if torch.cuda.is_available() else torch.device(\"cpu\")"
   ]
  },
  {
   "cell_type": "code",
   "execution_count": 8,
   "id": "aef2a958",
   "metadata": {},
   "outputs": [],
   "source": [
    "# neuron and simulation parameters\n",
    "spike_grad = surrogate.fast_sigmoid(slope=25)\n",
    "beta = 0.5\n",
    "num_steps = 50"
   ]
  },
  {
   "cell_type": "code",
   "execution_count": 9,
   "id": "d75c0ea2",
   "metadata": {},
   "outputs": [],
   "source": [
    "net = nn.Sequential(\n",
    "    nn.Conv2d(1, 32, 5),\n",
    "    nn.MaxPool2d(2),\n",
    "    snn.Leaky(beta=beta, spike_grad=spike_grad, init_hidden=True),\n",
    "    nn.Conv2d(32, 64, 5),\n",
    "    nn.MaxPool2d(2),\n",
    "    snn.Leaky(beta=beta, spike_grad=spike_grad, init_hidden=True),\n",
    "    nn.Flatten(),\n",
    "    nn.Linear(64 * 2 * 2, len(label_list)),\n",
    "    snn.Leaky(beta=beta, spike_grad=spike_grad, init_hidden=True, output=True)\n",
    ").to(device)"
   ]
  },
  {
   "cell_type": "code",
   "execution_count": 10,
   "id": "7b52d172",
   "metadata": {},
   "outputs": [],
   "source": [
    "def forward_pass(net, num_steps, data):\n",
    "    mem_rec = []\n",
    "    spk_rec = []\n",
    "    utils.reset(net)  # resets hidden states for all LIF neurons in net\n",
    "    \n",
    "    for step in range(num_steps):\n",
    "        spk_out, mem_out = net(data)\n",
    "        spk_rec.append(spk_out)\n",
    "        mem_rec.append(mem_out)\n",
    "        \n",
    "    return torch.stack(spk_rec), torch.stack(mem_rec)"
   ]
  },
  {
   "cell_type": "code",
   "execution_count": 11,
   "id": "546acf4b",
   "metadata": {},
   "outputs": [],
   "source": [
    "# already imported snntorch.functional as SF \n",
    "loss_fn = SF.ce_rate_loss()"
   ]
  },
  {
   "cell_type": "code",
   "execution_count": 12,
   "id": "fbd354ce",
   "metadata": {},
   "outputs": [],
   "source": [
    "def batch_accuracy(train_loader, net, num_steps):\n",
    "    with torch.no_grad():\n",
    "        total = 0\n",
    "        acc = 0\n",
    "        net.eval()\n",
    "        \n",
    "    train_loader = iter(train_loader)\n",
    "    for data, targets in train_loader:\n",
    "        data = data.to(device)\n",
    "        targets = targets.to(device)\n",
    "        spk_rec, _ = forward_pass(net, num_steps, data)\n",
    "        \n",
    "        acc += SF.accuracy_rate(spk_rec, targets) * spk_rec.size(1)\n",
    "        total += spk_rec.size(1)\n",
    "    \n",
    "    return acc/total"
   ]
  },
  {
   "cell_type": "code",
   "execution_count": 13,
   "id": "b935eac1",
   "metadata": {},
   "outputs": [
    {
     "name": "stdout",
     "output_type": "stream",
     "text": [
      "Iteration 0, Test Acc: 20.83%\n",
      "\n",
      "Iteration 50, Test Acc: 23.61%\n",
      "\n",
      "Iteration 100, Test Acc: 23.61%\n",
      "\n",
      "Iteration 150, Test Acc: 23.61%\n",
      "\n",
      "Iteration 200, Test Acc: 23.61%\n",
      "\n",
      "Iteration 250, Test Acc: 23.61%\n",
      "\n",
      "Iteration 300, Test Acc: 23.61%\n",
      "\n",
      "Iteration 350, Test Acc: 23.61%\n",
      "\n"
     ]
    }
   ],
   "source": [
    "optimizer = torch.optim.Adam(net.parameters(), lr=1e-2, betas=(0.9, 0.999))\n",
    "num_epochs = 10\n",
    "loss_hist = []\n",
    "test_acc_hist = []\n",
    "counter = 0\n",
    "\n",
    "# Outer training loop\n",
    "for epoch in range(num_epochs):\n",
    "\n",
    "    # Training loop\n",
    "    for data, targets in iter(train_loader):\n",
    "        data = data.to(device)\n",
    "        targets = targets.to(device)\n",
    "\n",
    "        # forward pass\n",
    "        net.train()\n",
    "        spk_rec, _ = forward_pass(net, num_steps, data)\n",
    "\n",
    "        # initialize the loss & sum over time\n",
    "        loss_val = loss_fn(spk_rec, targets)\n",
    "\n",
    "        # Gradient calculation + weight update\n",
    "        optimizer.zero_grad()\n",
    "        loss_val.backward()\n",
    "        optimizer.step()\n",
    "\n",
    "        # Store loss history for future plotting\n",
    "        loss_hist.append(loss_val.item())\n",
    "\n",
    "        # Test set\n",
    "        if counter % 50 == 0:\n",
    "            with torch.no_grad():\n",
    "                net.eval()\n",
    "                \n",
    "                # Test set forward pass\n",
    "                test_acc = batch_accuracy(test_loader, net, num_steps)\n",
    "                print(f\"Iteration {counter}, Test Acc: {test_acc * 100:.2f}%\\n\")\n",
    "                test_acc_hist.append(test_acc.item())\n",
    "\n",
    "        counter += 1"
   ]
  },
  {
   "cell_type": "code",
   "execution_count": 14,
   "id": "2bb1882a",
   "metadata": {},
   "outputs": [
    {
     "data": {
      "image/png": "[encoded data removed]",
      "text/plain": [
       "<Figure size 640x480 with 1 Axes>"
      ]
     },
     "metadata": {},
     "output_type": "display_data"
    }
   ],
   "source": [
    "# Plot Loss\n",
    "fig = plt.figure(facecolor=\"w\")\n",
    "plt.plot(test_acc_hist)\n",
    "plt.title(\"Test Set Accuracy\")\n",
    "plt.xlabel(\"Epoch\")\n",
    "plt.ylabel(\"Accuracy\")\n",
    "plt.show()"
   ]
  },
  {
   "cell_type": "code",
   "execution_count": null,
   "id": "917278c3",
   "metadata": {},
   "outputs": [],
   "source": []
  }
 ],
 "metadata": {
  "kernelspec": {
   "display_name": "Python 3 (ipykernel)",
   "language": "python",
   "name": "python3"
  },
  "language_info": {
   "codemirror_mode": {
    "name": "ipython",
    "version": 3
   },
   "file_extension": ".py",
   "mimetype": "text/x-python",
   "name": "python",
   "nbconvert_exporter": "python",
   "pygments_lexer": "ipython3",
   "version": "3.11.5"
  }
 },
 "nbformat": 4,
 "nbformat_minor": 5
}
