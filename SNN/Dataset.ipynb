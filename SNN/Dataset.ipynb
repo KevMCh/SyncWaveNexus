{
 "cells": [
  {
   "cell_type": "markdown",
   "id": "713cfbc5",
   "metadata": {},
   "source": [
    "### Importing Libraries\n",
    "Import the required libraries for data analysis."
   ]
  },
  {
   "cell_type": "code",
   "execution_count": 1,
   "id": "38eb6222",
   "metadata": {},
   "outputs": [],
   "source": [
    "import scipy.io\n",
    "import numpy as np\n",
    "import matplotlib.pyplot as plt\n",
    "\n",
    "import torch\n",
    "import torch.nn as nn\n",
    "from torch.utils.data import Dataset, DataLoader\n",
    "\n",
    "import snntorch as snn\n",
    "from snntorch import utils"
   ]
  },
  {
   "cell_type": "code",
   "execution_count": 2,
   "id": "a4d8ddb6",
   "metadata": {},
   "outputs": [],
   "source": [
    "class GraphDataset(Dataset):\n",
    "    FILE_PATH = ''\n",
    "    \n",
    "    def __init__(self, user_id=None, label_list=None, num_samples=None, num_steps=None):\n",
    "        self.user_id = user_id\n",
    "        self.label_list = label_list\n",
    "        self.num_samples = num_samples\n",
    "        self.num_steps = num_steps\n",
    "        \n",
    "        self.data, self.labels = self.load_data(user_id, label_list, num_samples)\n",
    "\n",
    "    def __len__(self):\n",
    "        return len(self.data)\n",
    "\n",
    "    def __getitem__(self, idx):\n",
    "        return torch.Tensor(self.data[idx]), self.labels[idx]\n",
    "    \n",
    "    def load_data(self, user_id, label_list, num_samples):\n",
    "        data = list()\n",
    "        labels = list()\n",
    "        \n",
    "        for i in range(len(label_list)):\n",
    "            for j in range(1, num_samples + 1):\n",
    "                try:\n",
    "                    adjMatrix = scipy.io.loadmat(\n",
    "                        self.FILE_PATH + 'tmp_graph_user' + str(user_id) +\n",
    "                        '_label' + str(label_list[i]) +\n",
    "                        '_item' + str(j) + '.mat')\n",
    "                    \n",
    "                except Exception as e:\n",
    "                    print(f\"Load fail: {e}\")\n",
    "                    continue\n",
    "                \n",
    "                tmpAdjMatrix = list()\n",
    "                for k in range(self.num_steps):\n",
    "                    tmpAdjMatrix.append(adjMatrix['fullMatrix'][:, :, k])\n",
    "                                        \n",
    "                data.append(np.array(tmpAdjMatrix))\n",
    "                labels.append(label_list[i])\n",
    "                                \n",
    "        if not data or not labels:\n",
    "            raise RuntimeError(\"No data or labels loaded.\")\n",
    "                    \n",
    "        data = torch.tensor(np.stack(data), dtype=torch.float32)\n",
    "                \n",
    "        label_dict = {label: index for index, label in enumerate(self.label_list)}\n",
    "        new_label_list = [label_dict[label] for label in labels]\n",
    "        labels = torch.tensor(new_label_list, dtype=torch.long)\n",
    "        \n",
    "        return data, labels"
   ]
  },
  {
   "cell_type": "markdown",
   "id": "eebe9f58",
   "metadata": {},
   "source": [
    "### Loading Data\n",
    "Load the full dataset."
   ]
  },
  {
   "cell_type": "code",
   "execution_count": 3,
   "id": "accdd569",
   "metadata": {},
   "outputs": [],
   "source": [
    "user_id = 1\n",
    "label_list = [769, 770]\n",
    "num_samples = 72\n",
    "\n",
    "# Temporal Dynamics\n",
    "num_steps = 3"
   ]
  },
  {
   "cell_type": "code",
   "execution_count": 4,
   "id": "ed256242",
   "metadata": {},
   "outputs": [],
   "source": [
    "full_dataset = GraphDataset(user_id=user_id, label_list=label_list, num_samples=num_samples, num_steps=num_steps)"
   ]
  },
  {
   "cell_type": "markdown",
   "id": "77013a3a",
   "metadata": {},
   "source": [
    "Create the train and test set."
   ]
  },
  {
   "cell_type": "code",
   "execution_count": 5,
   "id": "382be70c",
   "metadata": {},
   "outputs": [],
   "source": [
    "train_size = int(0.75 * len(full_dataset))\n",
    "test_size = len(full_dataset) - train_size\n",
    "train_dataset, test_dataset = torch.utils.data.random_split(full_dataset, [train_size, test_size])"
   ]
  },
  {
   "cell_type": "code",
   "execution_count": 6,
   "id": "3daa45cd",
   "metadata": {},
   "outputs": [],
   "source": [
    "batch_size = 6\n",
    "\n",
    "train_loader = DataLoader(train_dataset, batch_size=batch_size, shuffle=True)\n",
    "test_loader = DataLoader(test_dataset, batch_size=batch_size, shuffle=True)"
   ]
  }
 ],
 "metadata": {
  "kernelspec": {
   "display_name": "Python 3 (ipykernel)",
   "language": "python",
   "name": "python3"
  },
  "language_info": {
   "codemirror_mode": {
    "name": "ipython",
    "version": 3
   },
   "file_extension": ".py",
   "mimetype": "text/x-python",
   "name": "python",
   "nbconvert_exporter": "python",
   "pygments_lexer": "ipython3",
   "version": "3.11.5"
  }
 },
 "nbformat": 4,
 "nbformat_minor": 5
}
